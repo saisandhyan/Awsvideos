{
  "nbformat": 4,
  "nbformat_minor": 0,
  "metadata": {
    "colab": {
      "provenance": [],
      "include_colab_link": true
    },
    "kernelspec": {
      "name": "python3",
      "display_name": "Python 3"
    },
    "language_info": {
      "name": "python"
    }
  },
  "cells": [
    {
      "cell_type": "markdown",
      "metadata": {
        "id": "view-in-github",
        "colab_type": "text"
      },
      "source": [
        "<a href=\"https://colab.research.google.com/github/saisandhyan/Awsvideos/blob/master/Assignment_6_SaiSandhya.ipynb\" target=\"_parent\"><img src=\"https://colab.research.google.com/assets/colab-badge.svg\" alt=\"Open In Colab\"/></a>"
      ]
    },
    {
      "cell_type": "markdown",
      "source": [
        "# Part 1: PySpark DataFrame"
      ],
      "metadata": {
        "id": "XKXzTrdY2ryk"
      }
    },
    {
      "cell_type": "code",
      "source": [
        "!pip uninstall pyspark\n",
        "!pip install pyspark==3.0.0\n"
      ],
      "metadata": {
        "colab": {
          "base_uri": "https://localhost:8080/"
        },
        "id": "S2NhcImk0vub",
        "outputId": "20dca1cf-7ed5-4b99-e5cb-f840897747cc"
      },
      "execution_count": 1,
      "outputs": [
        {
          "output_type": "stream",
          "name": "stdout",
          "text": [
            "Found existing installation: pyspark 3.0.0\n",
            "Uninstalling pyspark-3.0.0:\n",
            "  Would remove:\n",
            "    /usr/local/bin/beeline\n",
            "    /usr/local/bin/beeline.cmd\n",
            "    /usr/local/bin/docker-image-tool.sh\n",
            "    /usr/local/bin/find-spark-home\n",
            "    /usr/local/bin/find-spark-home.cmd\n",
            "    /usr/local/bin/find_spark_home.py\n",
            "    /usr/local/bin/load-spark-env.cmd\n",
            "    /usr/local/bin/load-spark-env.sh\n",
            "    /usr/local/bin/pyspark\n",
            "    /usr/local/bin/pyspark.cmd\n",
            "    /usr/local/bin/pyspark2.cmd\n",
            "    /usr/local/bin/run-example\n",
            "    /usr/local/bin/run-example.cmd\n",
            "    /usr/local/bin/spark-class\n",
            "    /usr/local/bin/spark-class.cmd\n",
            "    /usr/local/bin/spark-class2.cmd\n",
            "    /usr/local/bin/spark-shell\n",
            "    /usr/local/bin/spark-shell.cmd\n",
            "    /usr/local/bin/spark-shell2.cmd\n",
            "    /usr/local/bin/spark-sql\n",
            "    /usr/local/bin/spark-sql.cmd\n",
            "    /usr/local/bin/spark-sql2.cmd\n",
            "    /usr/local/bin/spark-submit\n",
            "    /usr/local/bin/spark-submit.cmd\n",
            "    /usr/local/bin/spark-submit2.cmd\n",
            "    /usr/local/bin/sparkR\n",
            "    /usr/local/bin/sparkR.cmd\n",
            "    /usr/local/bin/sparkR2.cmd\n",
            "    /usr/local/lib/python3.10/dist-packages/pyspark-3.0.0.dist-info/*\n",
            "    /usr/local/lib/python3.10/dist-packages/pyspark/*\n",
            "Proceed (Y/n)? y\n",
            "  Successfully uninstalled pyspark-3.0.0\n",
            "Collecting pyspark==3.0.0\n",
            "  Using cached pyspark-3.0.0-py2.py3-none-any.whl\n",
            "Requirement already satisfied: py4j==0.10.9 in /usr/local/lib/python3.10/dist-packages (from pyspark==3.0.0) (0.10.9)\n",
            "Installing collected packages: pyspark\n",
            "Successfully installed pyspark-3.0.0\n"
          ]
        }
      ]
    },
    {
      "cell_type": "code",
      "source": [
        "from google.colab import files\n",
        "uploaded=files.upload()"
      ],
      "metadata": {
        "colab": {
          "base_uri": "https://localhost:8080/",
          "height": 73
        },
        "id": "2l-iMmDb1h1s",
        "outputId": "c8c4f9c2-5fb9-4904-b8d8-d252559f86f0"
      },
      "execution_count": 2,
      "outputs": [
        {
          "output_type": "display_data",
          "data": {
            "text/plain": [
              "<IPython.core.display.HTML object>"
            ],
            "text/html": [
              "\n",
              "     <input type=\"file\" id=\"files-34a60373-fd02-42db-a17a-a767e2976efc\" name=\"files[]\" multiple disabled\n",
              "        style=\"border:none\" />\n",
              "     <output id=\"result-34a60373-fd02-42db-a17a-a767e2976efc\">\n",
              "      Upload widget is only available when the cell has been executed in the\n",
              "      current browser session. Please rerun this cell to enable.\n",
              "      </output>\n",
              "      <script>// Copyright 2017 Google LLC\n",
              "//\n",
              "// Licensed under the Apache License, Version 2.0 (the \"License\");\n",
              "// you may not use this file except in compliance with the License.\n",
              "// You may obtain a copy of the License at\n",
              "//\n",
              "//      http://www.apache.org/licenses/LICENSE-2.0\n",
              "//\n",
              "// Unless required by applicable law or agreed to in writing, software\n",
              "// distributed under the License is distributed on an \"AS IS\" BASIS,\n",
              "// WITHOUT WARRANTIES OR CONDITIONS OF ANY KIND, either express or implied.\n",
              "// See the License for the specific language governing permissions and\n",
              "// limitations under the License.\n",
              "\n",
              "/**\n",
              " * @fileoverview Helpers for google.colab Python module.\n",
              " */\n",
              "(function(scope) {\n",
              "function span(text, styleAttributes = {}) {\n",
              "  const element = document.createElement('span');\n",
              "  element.textContent = text;\n",
              "  for (const key of Object.keys(styleAttributes)) {\n",
              "    element.style[key] = styleAttributes[key];\n",
              "  }\n",
              "  return element;\n",
              "}\n",
              "\n",
              "// Max number of bytes which will be uploaded at a time.\n",
              "const MAX_PAYLOAD_SIZE = 100 * 1024;\n",
              "\n",
              "function _uploadFiles(inputId, outputId) {\n",
              "  const steps = uploadFilesStep(inputId, outputId);\n",
              "  const outputElement = document.getElementById(outputId);\n",
              "  // Cache steps on the outputElement to make it available for the next call\n",
              "  // to uploadFilesContinue from Python.\n",
              "  outputElement.steps = steps;\n",
              "\n",
              "  return _uploadFilesContinue(outputId);\n",
              "}\n",
              "\n",
              "// This is roughly an async generator (not supported in the browser yet),\n",
              "// where there are multiple asynchronous steps and the Python side is going\n",
              "// to poll for completion of each step.\n",
              "// This uses a Promise to block the python side on completion of each step,\n",
              "// then passes the result of the previous step as the input to the next step.\n",
              "function _uploadFilesContinue(outputId) {\n",
              "  const outputElement = document.getElementById(outputId);\n",
              "  const steps = outputElement.steps;\n",
              "\n",
              "  const next = steps.next(outputElement.lastPromiseValue);\n",
              "  return Promise.resolve(next.value.promise).then((value) => {\n",
              "    // Cache the last promise value to make it available to the next\n",
              "    // step of the generator.\n",
              "    outputElement.lastPromiseValue = value;\n",
              "    return next.value.response;\n",
              "  });\n",
              "}\n",
              "\n",
              "/**\n",
              " * Generator function which is called between each async step of the upload\n",
              " * process.\n",
              " * @param {string} inputId Element ID of the input file picker element.\n",
              " * @param {string} outputId Element ID of the output display.\n",
              " * @return {!Iterable<!Object>} Iterable of next steps.\n",
              " */\n",
              "function* uploadFilesStep(inputId, outputId) {\n",
              "  const inputElement = document.getElementById(inputId);\n",
              "  inputElement.disabled = false;\n",
              "\n",
              "  const outputElement = document.getElementById(outputId);\n",
              "  outputElement.innerHTML = '';\n",
              "\n",
              "  const pickedPromise = new Promise((resolve) => {\n",
              "    inputElement.addEventListener('change', (e) => {\n",
              "      resolve(e.target.files);\n",
              "    });\n",
              "  });\n",
              "\n",
              "  const cancel = document.createElement('button');\n",
              "  inputElement.parentElement.appendChild(cancel);\n",
              "  cancel.textContent = 'Cancel upload';\n",
              "  const cancelPromise = new Promise((resolve) => {\n",
              "    cancel.onclick = () => {\n",
              "      resolve(null);\n",
              "    };\n",
              "  });\n",
              "\n",
              "  // Wait for the user to pick the files.\n",
              "  const files = yield {\n",
              "    promise: Promise.race([pickedPromise, cancelPromise]),\n",
              "    response: {\n",
              "      action: 'starting',\n",
              "    }\n",
              "  };\n",
              "\n",
              "  cancel.remove();\n",
              "\n",
              "  // Disable the input element since further picks are not allowed.\n",
              "  inputElement.disabled = true;\n",
              "\n",
              "  if (!files) {\n",
              "    return {\n",
              "      response: {\n",
              "        action: 'complete',\n",
              "      }\n",
              "    };\n",
              "  }\n",
              "\n",
              "  for (const file of files) {\n",
              "    const li = document.createElement('li');\n",
              "    li.append(span(file.name, {fontWeight: 'bold'}));\n",
              "    li.append(span(\n",
              "        `(${file.type || 'n/a'}) - ${file.size} bytes, ` +\n",
              "        `last modified: ${\n",
              "            file.lastModifiedDate ? file.lastModifiedDate.toLocaleDateString() :\n",
              "                                    'n/a'} - `));\n",
              "    const percent = span('0% done');\n",
              "    li.appendChild(percent);\n",
              "\n",
              "    outputElement.appendChild(li);\n",
              "\n",
              "    const fileDataPromise = new Promise((resolve) => {\n",
              "      const reader = new FileReader();\n",
              "      reader.onload = (e) => {\n",
              "        resolve(e.target.result);\n",
              "      };\n",
              "      reader.readAsArrayBuffer(file);\n",
              "    });\n",
              "    // Wait for the data to be ready.\n",
              "    let fileData = yield {\n",
              "      promise: fileDataPromise,\n",
              "      response: {\n",
              "        action: 'continue',\n",
              "      }\n",
              "    };\n",
              "\n",
              "    // Use a chunked sending to avoid message size limits. See b/62115660.\n",
              "    let position = 0;\n",
              "    do {\n",
              "      const length = Math.min(fileData.byteLength - position, MAX_PAYLOAD_SIZE);\n",
              "      const chunk = new Uint8Array(fileData, position, length);\n",
              "      position += length;\n",
              "\n",
              "      const base64 = btoa(String.fromCharCode.apply(null, chunk));\n",
              "      yield {\n",
              "        response: {\n",
              "          action: 'append',\n",
              "          file: file.name,\n",
              "          data: base64,\n",
              "        },\n",
              "      };\n",
              "\n",
              "      let percentDone = fileData.byteLength === 0 ?\n",
              "          100 :\n",
              "          Math.round((position / fileData.byteLength) * 100);\n",
              "      percent.textContent = `${percentDone}% done`;\n",
              "\n",
              "    } while (position < fileData.byteLength);\n",
              "  }\n",
              "\n",
              "  // All done.\n",
              "  yield {\n",
              "    response: {\n",
              "      action: 'complete',\n",
              "    }\n",
              "  };\n",
              "}\n",
              "\n",
              "scope.google = scope.google || {};\n",
              "scope.google.colab = scope.google.colab || {};\n",
              "scope.google.colab._files = {\n",
              "  _uploadFiles,\n",
              "  _uploadFilesContinue,\n",
              "};\n",
              "})(self);\n",
              "</script> "
            ]
          },
          "metadata": {}
        },
        {
          "output_type": "stream",
          "name": "stdout",
          "text": [
            "Saving diabetes.csv to diabetes (1).csv\n"
          ]
        }
      ]
    },
    {
      "cell_type": "code",
      "source": [
        "#1.Insert \"csv\" data into a DataFrame.\n",
        "from pyspark.sql import SparkSession\n",
        "from pyspark.sql.functions import mean, when\n",
        "\n",
        "# Creating a Spark session.\n",
        "spark_data = SparkSession.builder.appName(\"Diabetes Analysis\").getOrCreate()\n",
        "\n",
        "# Inserting CSV data into a DataFrame.\n",
        "diabetes_df = spark_data.read.csv(\"diabetes.csv\", header=True, inferSchema=True)\n",
        "\n",
        "# Display the DataFrame schema.\n",
        "diabetes_df.printSchema()\n"
      ],
      "metadata": {
        "colab": {
          "base_uri": "https://localhost:8080/"
        },
        "id": "1XewNNaj1Lhj",
        "outputId": "da9dec4f-823c-4495-df66-0669b37f946a"
      },
      "execution_count": 3,
      "outputs": [
        {
          "output_type": "stream",
          "name": "stdout",
          "text": [
            "root\n",
            " |-- Pregnancies: integer (nullable = true)\n",
            " |-- Glucose: integer (nullable = true)\n",
            " |-- BloodPressure: integer (nullable = true)\n",
            " |-- SkinThickness: integer (nullable = true)\n",
            " |-- Insulin: integer (nullable = true)\n",
            " |-- BMI: double (nullable = true)\n",
            " |-- DiabetesPedigreeFunction: double (nullable = true)\n",
            " |-- Age: integer (nullable = true)\n",
            " |-- Outcome: integer (nullable = true)\n",
            "\n"
          ]
        }
      ]
    },
    {
      "cell_type": "code",
      "source": [
        "# 2: Replace rows with BMI=0 with mean BMI and save to a new dataframe: pyspark_df_nonzero_BMI.\n",
        "# Determine the average BMI.\n",
        "mean_bmi = diabetes_df.select(mean(\"BMI\")).collect()[0][0]\n",
        "\n",
        "# Replace rows with BMI=0\n",
        "pyspark_df_nonzero_BMI = diabetes_df.withColumn(\"BMI\", when(diabetes_df[\"BMI\"] == 0, mean_bmi).otherwise(diabetes_df[\"BMI\"]))\n",
        "\n",
        "# Display the modified dataframe\n",
        "pyspark_df_nonzero_BMI.show()"
      ],
      "metadata": {
        "colab": {
          "base_uri": "https://localhost:8080/"
        },
        "id": "EHWNrcO_1b48",
        "outputId": "9b6d0cf7-de54-432c-a2d5-72c02aa3647e"
      },
      "execution_count": 4,
      "outputs": [
        {
          "output_type": "stream",
          "name": "stdout",
          "text": [
            "+-----------+-------+-------------+-------------+-------+------------------+------------------------+---+-------+\n",
            "|Pregnancies|Glucose|BloodPressure|SkinThickness|Insulin|               BMI|DiabetesPedigreeFunction|Age|Outcome|\n",
            "+-----------+-------+-------------+-------------+-------+------------------+------------------------+---+-------+\n",
            "|          6|    148|           72|           35|      0|              33.6|                   0.627| 50|      1|\n",
            "|          1|     85|           66|           29|      0|              26.6|                   0.351| 31|      0|\n",
            "|          8|    183|           64|            0|      0|              23.3|                   0.672| 32|      1|\n",
            "|          1|     89|           66|           23|     94|              28.1|                   0.167| 21|      0|\n",
            "|          0|    137|           40|           35|    168|              43.1|                   2.288| 33|      1|\n",
            "|          5|    116|           74|            0|      0|              25.6|                   0.201| 30|      0|\n",
            "|          3|     78|           50|           32|     88|              31.0|                   0.248| 26|      1|\n",
            "|         10|    115|            0|            0|      0|              35.3|                   0.134| 29|      0|\n",
            "|          2|    197|           70|           45|    543|              30.5|                   0.158| 53|      1|\n",
            "|          8|    125|           96|            0|      0|31.992578124999977|                   0.232| 54|      1|\n",
            "|          4|    110|           92|            0|      0|              37.6|                   0.191| 30|      0|\n",
            "|         10|    168|           74|            0|      0|              38.0|                   0.537| 34|      1|\n",
            "|         10|    139|           80|            0|      0|              27.1|                   1.441| 57|      0|\n",
            "|          1|    189|           60|           23|    846|              30.1|                   0.398| 59|      1|\n",
            "|          5|    166|           72|           19|    175|              25.8|                   0.587| 51|      1|\n",
            "|          7|    100|            0|            0|      0|              30.0|                   0.484| 32|      1|\n",
            "|          0|    118|           84|           47|    230|              45.8|                   0.551| 31|      1|\n",
            "|          7|    107|           74|            0|      0|              29.6|                   0.254| 31|      1|\n",
            "|          1|    103|           30|           38|     83|              43.3|                   0.183| 33|      0|\n",
            "|          1|    115|           70|           30|     96|              34.6|                   0.529| 32|      1|\n",
            "+-----------+-------+-------------+-------------+-------+------------------+------------------------+---+-------+\n",
            "only showing top 20 rows\n",
            "\n"
          ]
        }
      ]
    },
    {
      "cell_type": "code",
      "source": [
        "# Create a new dataframe pyspark_df_outcome that contains rows with ages greater than 35.\n",
        "pyspark_df_outcome = diabetes_df.filter(diabetes_df[\"Age\"] >= 35)\n",
        "\n",
        "# Show the new dataframe\n",
        "pyspark_df_outcome.show()"
      ],
      "metadata": {
        "colab": {
          "base_uri": "https://localhost:8080/"
        },
        "id": "LHhxnvKK2CN2",
        "outputId": "3bf62b94-66e2-4419-a260-adcf2970e26f"
      },
      "execution_count": 5,
      "outputs": [
        {
          "output_type": "stream",
          "name": "stdout",
          "text": [
            "+-----------+-------+-------------+-------------+-------+----+------------------------+---+-------+\n",
            "|Pregnancies|Glucose|BloodPressure|SkinThickness|Insulin| BMI|DiabetesPedigreeFunction|Age|Outcome|\n",
            "+-----------+-------+-------------+-------------+-------+----+------------------------+---+-------+\n",
            "|          6|    148|           72|           35|      0|33.6|                   0.627| 50|      1|\n",
            "|          2|    197|           70|           45|    543|30.5|                   0.158| 53|      1|\n",
            "|          8|    125|           96|            0|      0| 0.0|                   0.232| 54|      1|\n",
            "|         10|    139|           80|            0|      0|27.1|                   1.441| 57|      0|\n",
            "|          1|    189|           60|           23|    846|30.1|                   0.398| 59|      1|\n",
            "|          5|    166|           72|           19|    175|25.8|                   0.587| 51|      1|\n",
            "|          8|     99|           84|            0|      0|35.4|                   0.388| 50|      0|\n",
            "|          7|    196|           90|            0|      0|39.8|                   0.451| 41|      1|\n",
            "|         11|    143|           94|           33|    146|36.6|                   0.254| 51|      1|\n",
            "|         10|    125|           70|           26|    115|31.1|                   0.205| 41|      1|\n",
            "|          7|    147|           76|            0|      0|39.4|                   0.257| 43|      1|\n",
            "|         13|    145|           82|           19|    110|22.2|                   0.245| 57|      0|\n",
            "|          5|    117|           92|            0|      0|34.1|                   0.337| 38|      0|\n",
            "|          5|    109|           75|           26|      0|36.0|                   0.546| 60|      0|\n",
            "|         10|    122|           78|           31|      0|27.6|                   0.512| 45|      0|\n",
            "|         11|    138|           76|            0|      0|33.2|                    0.42| 35|      0|\n",
            "|          9|    102|           76|           37|      0|32.9|                   0.665| 46|      1|\n",
            "|          4|    111|           72|           47|    207|37.1|                    1.39| 56|      1|\n",
            "|          7|    133|           84|            0|      0|40.2|                   0.696| 37|      0|\n",
            "|          7|    106|           92|           18|      0|22.7|                   0.235| 48|      0|\n",
            "+-----------+-------+-------------+-------------+-------+----+------------------------+---+-------+\n",
            "only showing top 20 rows\n",
            "\n"
          ]
        }
      ]
    },
    {
      "cell_type": "code",
      "source": [
        "# 4.Display only the rows with Diabetes Pedigree Function values greater than or equal to 0.51.\n",
        "# Filter rows where the value of \"Diabetes Pedigree Function\" is greater than or equal to 0.51.\n",
        "pyspark_df_pedigree = diabetes_df.filter(diabetes_df[\"DiabetesPedigreeFunction\"] >= 0.51)\n",
        "\n",
        "# Showing the filtered dataframe\n",
        "pyspark_df_pedigree.show()\n"
      ],
      "metadata": {
        "colab": {
          "base_uri": "https://localhost:8080/"
        },
        "id": "cGj1VYvu2Ge9",
        "outputId": "5620868c-f9b8-4893-c0f8-786b05fc6bf4"
      },
      "execution_count": 6,
      "outputs": [
        {
          "output_type": "stream",
          "name": "stdout",
          "text": [
            "+-----------+-------+-------------+-------------+-------+----+------------------------+---+-------+\n",
            "|Pregnancies|Glucose|BloodPressure|SkinThickness|Insulin| BMI|DiabetesPedigreeFunction|Age|Outcome|\n",
            "+-----------+-------+-------------+-------------+-------+----+------------------------+---+-------+\n",
            "|          6|    148|           72|           35|      0|33.6|                   0.627| 50|      1|\n",
            "|          8|    183|           64|            0|      0|23.3|                   0.672| 32|      1|\n",
            "|          0|    137|           40|           35|    168|43.1|                   2.288| 33|      1|\n",
            "|         10|    168|           74|            0|      0|38.0|                   0.537| 34|      1|\n",
            "|         10|    139|           80|            0|      0|27.1|                   1.441| 57|      0|\n",
            "|          5|    166|           72|           19|    175|25.8|                   0.587| 51|      1|\n",
            "|          0|    118|           84|           47|    230|45.8|                   0.551| 31|      1|\n",
            "|          1|    115|           70|           30|     96|34.6|                   0.529| 32|      1|\n",
            "|          3|    126|           88|           41|    235|39.3|                   0.704| 27|      0|\n",
            "|          5|    109|           75|           26|      0|36.0|                   0.546| 60|      0|\n",
            "|          3|    158|           76|           36|    245|31.6|                   0.851| 28|      1|\n",
            "|         10|    122|           78|           31|      0|27.6|                   0.512| 45|      0|\n",
            "|          4|    103|           60|           33|    192|24.0|                   0.966| 33|      0|\n",
            "|          9|    102|           76|           37|      0|32.9|                   0.665| 46|      1|\n",
            "|          4|    111|           72|           47|    207|37.1|                    1.39| 56|      1|\n",
            "|          7|    133|           84|            0|      0|40.2|                   0.696| 37|      0|\n",
            "|          9|    171|          110|           24|    240|45.4|                   0.721| 54|      1|\n",
            "|          0|    180|           66|           39|      0|42.0|                   1.893| 25|      1|\n",
            "|          1|    146|           56|            0|      0|29.7|                   0.564| 29|      0|\n",
            "|          2|     71|           70|           27|      0|28.0|                   0.586| 22|      0|\n",
            "+-----------+-------+-------------+-------------+-------+----+------------------------+---+-------+\n",
            "only showing top 20 rows\n",
            "\n"
          ]
        }
      ]
    },
    {
      "cell_type": "code",
      "source": [
        "# Display the schema of your DataFrame.\n",
        "diabetes_df.printSchema()\n",
        "\n",
        "# Display the top few rows in order to view the header\n",
        "diabetes_df.show(5)\n"
      ],
      "metadata": {
        "colab": {
          "base_uri": "https://localhost:8080/"
        },
        "id": "x-JKLq2D2cZx",
        "outputId": "49cb0a4c-19ea-406f-b38c-de9b6819cdda"
      },
      "execution_count": 9,
      "outputs": [
        {
          "output_type": "stream",
          "name": "stdout",
          "text": [
            "root\n",
            " |-- Pregnancies: integer (nullable = true)\n",
            " |-- Glucose: integer (nullable = true)\n",
            " |-- BloodPressure: integer (nullable = true)\n",
            " |-- SkinThickness: integer (nullable = true)\n",
            " |-- Insulin: integer (nullable = true)\n",
            " |-- BMI: double (nullable = true)\n",
            " |-- DiabetesPedigreeFunction: double (nullable = true)\n",
            " |-- Age: integer (nullable = true)\n",
            " |-- Outcome: integer (nullable = true)\n",
            "\n",
            "+-----------+-------+-------------+-------------+-------+----+------------------------+---+-------+\n",
            "|Pregnancies|Glucose|BloodPressure|SkinThickness|Insulin| BMI|DiabetesPedigreeFunction|Age|Outcome|\n",
            "+-----------+-------+-------------+-------------+-------+----+------------------------+---+-------+\n",
            "|          6|    148|           72|           35|      0|33.6|                   0.627| 50|      1|\n",
            "|          1|     85|           66|           29|      0|26.6|                   0.351| 31|      0|\n",
            "|          8|    183|           64|            0|      0|23.3|                   0.672| 32|      1|\n",
            "|          1|     89|           66|           23|     94|28.1|                   0.167| 21|      0|\n",
            "|          0|    137|           40|           35|    168|43.1|                   2.288| 33|      1|\n",
            "+-----------+-------+-------------+-------------+-------+----+------------------------+---+-------+\n",
            "only showing top 5 rows\n",
            "\n"
          ]
        }
      ]
    },
    {
      "cell_type": "code",
      "source": [
        "# stoping the spark.\n",
        "spark_data.stop()"
      ],
      "metadata": {
        "id": "1kVgs4rZ2c2W"
      },
      "execution_count": 10,
      "outputs": []
    },
    {
      "cell_type": "markdown",
      "source": [
        "# Part-2: Distributed Computing"
      ],
      "metadata": {
        "id": "pNFul-9L27sw"
      }
    },
    {
      "cell_type": "code",
      "source": [
        "pip install multiprocess\n"
      ],
      "metadata": {
        "colab": {
          "base_uri": "https://localhost:8080/"
        },
        "id": "oO4CxyHQ3Rr1",
        "outputId": "d96545a6-15af-478b-a4a5-14332f831e30"
      },
      "execution_count": 11,
      "outputs": [
        {
          "output_type": "stream",
          "name": "stdout",
          "text": [
            "Requirement already satisfied: multiprocess in /usr/local/lib/python3.10/dist-packages (0.70.15)\n",
            "Requirement already satisfied: dill>=0.3.7 in /usr/local/lib/python3.10/dist-packages (from multiprocess) (0.3.7)\n"
          ]
        }
      ]
    },
    {
      "cell_type": "code",
      "source": [
        "import numpy as np\n",
        "import multiprocessing\n",
        "import time\n",
        "\n",
        "# Checking if a number is prime.\n",
        "def is_prime(n):\n",
        "    # If n is less than or equal to one, the number is not prime.\n",
        "    if n <= 1:\n",
        "        return False\n",
        "    # If n is 2 or 3, it is prime.\n",
        "    if n <= 3:\n",
        "        return True\n",
        "    # If n is divisible by 2 or 3, it is not a prime number.\n",
        "    if n % 2 == 0 or n % 3 == 0:\n",
        "        return False\n",
        "\n",
        "    # Set i to 5 and test divisibility with a while loop.\n",
        "    i = 5\n",
        "    while i * i <= n:\n",
        "        # If n is divisible by i or i + 2, it isn't prime.\n",
        "        if n % i == 0 or n % (i + 2) == 0:\n",
        "            return False\n",
        "        # Increase i by 6 because primes have a pattern (6k ± 1)\n",
        "        i += 6\n",
        "\n",
        "    # If none of the preceding conditions are met, n is prime.\n",
        "    return True\n",
        "\n",
        "#A function that finds the highest prime integer in a subarray.\n",
        "def find_highest_prime(subarray, result):\n",
        "    max_prime = -1\n",
        "    for num in subarray:\n",
        "        if is_prime(num) and num > max_prime:\n",
        "            max_prime = num\n",
        "    result.put(max_prime)\n",
        "\n",
        "# Splits the array into parts for parallel processing.\n",
        "def chunkify(lst, chunk_size):\n",
        "    for i in range(0, len(lst), chunk_size):\n",
        "        yield lst[i:i + chunk_size]\n",
        "\n",
        "# Set the thread count (T).\n",
        "T = 4\n",
        "\n",
        "# N values to be tested\n",
        "N_values = [1000, 10000, 50000, 100000, 121000]\n",
        "\n",
        "# Observations:\n",
        "# The code divides the array into parts and processes them in parallel using multiprocessing.\n",
        "# To understand how the execution time changes, we will measure the runtime for various N numbers.\n",
        "for N in N_values:\n",
        "    # Create an array of N randomly generated integers.\n",
        "    array = np.random.randint(1, 1000000, N)\n",
        "\n",
        "    # Separate the array into parts for parallel processing.\n",
        "    chunks = list(chunkify(array, len(array) // T))\n",
        "\n",
        "    result_queue = multiprocessing.Queue()\n",
        "    start_time = time.time()\n",
        "\n",
        "    processes = []\n",
        "    for chunk in chunks:\n",
        "        process = multiprocessing.Process(target=find_highest_prime, args=(chunk, result_queue))\n",
        "        processes.append(process)\n",
        "        process.start()\n",
        "\n",
        "    for process in processes:\n",
        "        process.join()\n",
        "\n",
        "    max_prime = -1\n",
        "    while not result_queue.empty():\n",
        "        result = result_queue.get()\n",
        "        if result > max_prime:\n",
        "            max_prime = result\n",
        "\n",
        "    end_time = time.time()\n",
        "    execution_time = end_time - start_time\n",
        "\n",
        "    # Print the largest prime number and the execution duration for the current N value\n",
        "    print(f\"For N={N}, the largest prime number is: {max_prime}\")\n",
        "    print(f\"Execution time for N={N}: {execution_time:.4f} seconds\\n\")\n",
        "\n",
        "# Print the largest prime number.\n",
        "print(\"The largest prime number is:\", max_prime)"
      ],
      "metadata": {
        "colab": {
          "base_uri": "https://localhost:8080/"
        },
        "id": "T-O6pwDv3yCw",
        "outputId": "d940e15b-cb39-43d4-e38b-f6433163d90f"
      },
      "execution_count": 12,
      "outputs": [
        {
          "output_type": "stream",
          "name": "stdout",
          "text": [
            "For N=1000, the largest prime number is: 982493\n",
            "Execution time for N=1000: 0.0417 seconds\n",
            "\n",
            "For N=10000, the largest prime number is: 997693\n",
            "Execution time for N=10000: 0.1050 seconds\n",
            "\n",
            "For N=50000, the largest prime number is: 999953\n",
            "Execution time for N=50000: 0.3177 seconds\n",
            "\n",
            "For N=100000, the largest prime number is: 999979\n",
            "Execution time for N=100000: 0.9858 seconds\n",
            "\n",
            "For N=121000, the largest prime number is: 999883\n",
            "Execution time for N=121000: 0.7006 seconds\n",
            "\n",
            "The largest prime number is: 999883\n"
          ]
        }
      ]
    },
    {
      "cell_type": "markdown",
      "source": [
        "\"For N=1000, the highest prime number is: 984859\"\n",
        "\n",
        "For an array of 1000 random integers, the code found the highest prime number, which is 984859.\n",
        "The execution time for this computation was approximately 0.0588 seconds.\n",
        "\"For N=10000, the highest prime number is: 999329\"\n",
        "\n",
        "For an array of 10,000 random integers, the code found the highest prime number, which is 999329.\n",
        "The execution time for this computation was approximately 0.1473 seconds.\n",
        "\"For N=50000, the highest prime number is: 999769\"\n",
        "\n",
        "For an array of 50,000 random integers, the code found the highest prime number, which is 999769.\n",
        "The execution time for this computation was approximately 0.4634 seconds.\n",
        "\"For N=100000, the highest prime number is: 999907\"\n",
        "\n",
        "For an array of 100,000 random integers, the code found the highest prime number, which is 999907.\n",
        "The execution time for this computation was approximately 0.6353 seconds.\n",
        "\"For N=121000, the highest prime number is: 999653\"\n",
        "\n",
        "For an array of 121,000 random integers, the code found the highest prime number, which is 999653.\n",
        "The execution time for this computation was approximately 0.6974 seconds."
      ],
      "metadata": {
        "id": "Ypl3rwCT6tZf"
      }
    },
    {
      "cell_type": "markdown",
      "source": [
        "The specific execution times can vary depending on the hardware and system load, but in general, the code provides an understanding of how the execution time scales with different N values."
      ],
      "metadata": {
        "id": "PIJWLCUh62MW"
      }
    }
  ]
}